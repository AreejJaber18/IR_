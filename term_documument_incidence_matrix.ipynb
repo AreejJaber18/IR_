{
  "nbformat": 4,
  "nbformat_minor": 0,
  "metadata": {
    "colab": {
      "provenance": []
    },
    "kernelspec": {
      "name": "python3",
      "display_name": "Python 3"
    },
    "language_info": {
      "name": "python"
    }
  },
  "cells": [
    {
      "cell_type": "code",
      "execution_count": null,
      "metadata": {
        "id": "B-MioGPOYvhd"
      },
      "outputs": [],
      "source": [
        "Doc1 = \"new home sales top forecasts\"\n",
        "Doc2 = \"home sales rise in july\"\n",
        "Doc3 = \"increase in home sales in july\"\n",
        "Doc4= \"july new home sales rise\""
      ]
    },
    {
      "cell_type": "markdown",
      "source": [
        "Using Pandas\n",
        "Importing the libraries"
      ],
      "metadata": {
        "id": "O4xAwm2CZ5hK"
      }
    },
    {
      "cell_type": "code",
      "source": [
        "import pandas as pd\n",
        "from sklearn.feature_extraction.text import CountVectorizer"
      ],
      "metadata": {
        "id": "w_neXmN8ZUM8"
      },
      "execution_count": null,
      "outputs": []
    },
    {
      "cell_type": "markdown",
      "source": [
        "Adding the documents "
      ],
      "metadata": {
        "id": "YMeTDTQkZ-ft"
      }
    },
    {
      "cell_type": "code",
      "source": [
        "docs = [Doc1, Doc2, Doc3, Doc4]\n",
        "print(docs)"
      ],
      "metadata": {
        "colab": {
          "base_uri": "https://localhost:8080/"
        },
        "id": "s53SHNuKZbbe",
        "outputId": "e07c46e3-61ba-4602-a178-39bcbb4af8eb"
      },
      "execution_count": null,
      "outputs": [
        {
          "output_type": "stream",
          "name": "stdout",
          "text": [
            "['new home sales top forecasts', 'home sales rise in july', 'increase in home sales in july', 'july new home sales rise']\n"
          ]
        }
      ]
    },
    {
      "cell_type": "markdown",
      "source": [
        "Defining and fitting the count vectorizer on the document."
      ],
      "metadata": {
        "id": "4ZgjCkuoaDqa"
      }
    },
    {
      "cell_type": "code",
      "source": [
        "vec = CountVectorizer()\n",
        "X = vec.fit_transform(docs)"
      ],
      "metadata": {
        "id": "usSjJmy0Zpa1"
      },
      "execution_count": null,
      "outputs": []
    },
    {
      "cell_type": "markdown",
      "source": [
        "Converting the vector on the DataFrame using pandas "
      ],
      "metadata": {
        "id": "EkA1ZOPwaJ1t"
      }
    },
    {
      "cell_type": "code",
      "source": [
        "df = pd.DataFrame(X.toarray(), columns=vec.get_feature_names())\n",
        "df.head()"
      ],
      "metadata": {
        "colab": {
          "base_uri": "https://localhost:8080/",
          "height": 230
        },
        "id": "zsaYN1rnZt7U",
        "outputId": "a26ed72d-fc5f-4441-8048-0cc9c348ddaf"
      },
      "execution_count": null,
      "outputs": [
        {
          "output_type": "stream",
          "name": "stderr",
          "text": [
            "/usr/local/lib/python3.7/dist-packages/sklearn/utils/deprecation.py:87: FutureWarning: Function get_feature_names is deprecated; get_feature_names is deprecated in 1.0 and will be removed in 1.2. Please use get_feature_names_out instead.\n",
            "  warnings.warn(msg, category=FutureWarning)\n"
          ]
        },
        {
          "output_type": "execute_result",
          "data": {
            "text/plain": [
              "   forecasts  home  in  increase  july  new  rise  sales  top\n",
              "0          1     1   0         0     0    1     0      1    1\n",
              "1          0     1   1         0     1    0     1      1    0\n",
              "2          0     1   2         1     1    0     0      1    0\n",
              "3          0     1   0         0     1    1     1      1    0"
            ],
            "text/html": [
              "\n",
              "  <div id=\"df-aa21bd49-32ec-4508-a7e6-1a67c87d9028\">\n",
              "    <div class=\"colab-df-container\">\n",
              "      <div>\n",
              "<style scoped>\n",
              "    .dataframe tbody tr th:only-of-type {\n",
              "        vertical-align: middle;\n",
              "    }\n",
              "\n",
              "    .dataframe tbody tr th {\n",
              "        vertical-align: top;\n",
              "    }\n",
              "\n",
              "    .dataframe thead th {\n",
              "        text-align: right;\n",
              "    }\n",
              "</style>\n",
              "<table border=\"1\" class=\"dataframe\">\n",
              "  <thead>\n",
              "    <tr style=\"text-align: right;\">\n",
              "      <th></th>\n",
              "      <th>forecasts</th>\n",
              "      <th>home</th>\n",
              "      <th>in</th>\n",
              "      <th>increase</th>\n",
              "      <th>july</th>\n",
              "      <th>new</th>\n",
              "      <th>rise</th>\n",
              "      <th>sales</th>\n",
              "      <th>top</th>\n",
              "    </tr>\n",
              "  </thead>\n",
              "  <tbody>\n",
              "    <tr>\n",
              "      <th>0</th>\n",
              "      <td>1</td>\n",
              "      <td>1</td>\n",
              "      <td>0</td>\n",
              "      <td>0</td>\n",
              "      <td>0</td>\n",
              "      <td>1</td>\n",
              "      <td>0</td>\n",
              "      <td>1</td>\n",
              "      <td>1</td>\n",
              "    </tr>\n",
              "    <tr>\n",
              "      <th>1</th>\n",
              "      <td>0</td>\n",
              "      <td>1</td>\n",
              "      <td>1</td>\n",
              "      <td>0</td>\n",
              "      <td>1</td>\n",
              "      <td>0</td>\n",
              "      <td>1</td>\n",
              "      <td>1</td>\n",
              "      <td>0</td>\n",
              "    </tr>\n",
              "    <tr>\n",
              "      <th>2</th>\n",
              "      <td>0</td>\n",
              "      <td>1</td>\n",
              "      <td>2</td>\n",
              "      <td>1</td>\n",
              "      <td>1</td>\n",
              "      <td>0</td>\n",
              "      <td>0</td>\n",
              "      <td>1</td>\n",
              "      <td>0</td>\n",
              "    </tr>\n",
              "    <tr>\n",
              "      <th>3</th>\n",
              "      <td>0</td>\n",
              "      <td>1</td>\n",
              "      <td>0</td>\n",
              "      <td>0</td>\n",
              "      <td>1</td>\n",
              "      <td>1</td>\n",
              "      <td>1</td>\n",
              "      <td>1</td>\n",
              "      <td>0</td>\n",
              "    </tr>\n",
              "  </tbody>\n",
              "</table>\n",
              "</div>\n",
              "      <button class=\"colab-df-convert\" onclick=\"convertToInteractive('df-aa21bd49-32ec-4508-a7e6-1a67c87d9028')\"\n",
              "              title=\"Convert this dataframe to an interactive table.\"\n",
              "              style=\"display:none;\">\n",
              "        \n",
              "  <svg xmlns=\"http://www.w3.org/2000/svg\" height=\"24px\"viewBox=\"0 0 24 24\"\n",
              "       width=\"24px\">\n",
              "    <path d=\"M0 0h24v24H0V0z\" fill=\"none\"/>\n",
              "    <path d=\"M18.56 5.44l.94 2.06.94-2.06 2.06-.94-2.06-.94-.94-2.06-.94 2.06-2.06.94zm-11 1L8.5 8.5l.94-2.06 2.06-.94-2.06-.94L8.5 2.5l-.94 2.06-2.06.94zm10 10l.94 2.06.94-2.06 2.06-.94-2.06-.94-.94-2.06-.94 2.06-2.06.94z\"/><path d=\"M17.41 7.96l-1.37-1.37c-.4-.4-.92-.59-1.43-.59-.52 0-1.04.2-1.43.59L10.3 9.45l-7.72 7.72c-.78.78-.78 2.05 0 2.83L4 21.41c.39.39.9.59 1.41.59.51 0 1.02-.2 1.41-.59l7.78-7.78 2.81-2.81c.8-.78.8-2.07 0-2.86zM5.41 20L4 18.59l7.72-7.72 1.47 1.35L5.41 20z\"/>\n",
              "  </svg>\n",
              "      </button>\n",
              "      \n",
              "  <style>\n",
              "    .colab-df-container {\n",
              "      display:flex;\n",
              "      flex-wrap:wrap;\n",
              "      gap: 12px;\n",
              "    }\n",
              "\n",
              "    .colab-df-convert {\n",
              "      background-color: #E8F0FE;\n",
              "      border: none;\n",
              "      border-radius: 50%;\n",
              "      cursor: pointer;\n",
              "      display: none;\n",
              "      fill: #1967D2;\n",
              "      height: 32px;\n",
              "      padding: 0 0 0 0;\n",
              "      width: 32px;\n",
              "    }\n",
              "\n",
              "    .colab-df-convert:hover {\n",
              "      background-color: #E2EBFA;\n",
              "      box-shadow: 0px 1px 2px rgba(60, 64, 67, 0.3), 0px 1px 3px 1px rgba(60, 64, 67, 0.15);\n",
              "      fill: #174EA6;\n",
              "    }\n",
              "\n",
              "    [theme=dark] .colab-df-convert {\n",
              "      background-color: #3B4455;\n",
              "      fill: #D2E3FC;\n",
              "    }\n",
              "\n",
              "    [theme=dark] .colab-df-convert:hover {\n",
              "      background-color: #434B5C;\n",
              "      box-shadow: 0px 1px 3px 1px rgba(0, 0, 0, 0.15);\n",
              "      filter: drop-shadow(0px 1px 2px rgba(0, 0, 0, 0.3));\n",
              "      fill: #FFFFFF;\n",
              "    }\n",
              "  </style>\n",
              "\n",
              "      <script>\n",
              "        const buttonEl =\n",
              "          document.querySelector('#df-aa21bd49-32ec-4508-a7e6-1a67c87d9028 button.colab-df-convert');\n",
              "        buttonEl.style.display =\n",
              "          google.colab.kernel.accessAllowed ? 'block' : 'none';\n",
              "\n",
              "        async function convertToInteractive(key) {\n",
              "          const element = document.querySelector('#df-aa21bd49-32ec-4508-a7e6-1a67c87d9028');\n",
              "          const dataTable =\n",
              "            await google.colab.kernel.invokeFunction('convertToInteractive',\n",
              "                                                     [key], {});\n",
              "          if (!dataTable) return;\n",
              "\n",
              "          const docLinkHtml = 'Like what you see? Visit the ' +\n",
              "            '<a target=\"_blank\" href=https://colab.research.google.com/notebooks/data_table.ipynb>data table notebook</a>'\n",
              "            + ' to learn more about interactive tables.';\n",
              "          element.innerHTML = '';\n",
              "          dataTable['output_type'] = 'display_data';\n",
              "          await google.colab.output.renderOutput(dataTable, element);\n",
              "          const docLink = document.createElement('div');\n",
              "          docLink.innerHTML = docLinkHtml;\n",
              "          element.appendChild(docLink);\n",
              "        }\n",
              "      </script>\n",
              "    </div>\n",
              "  </div>\n",
              "  "
            ]
          },
          "metadata": {},
          "execution_count": 6
        }
      ]
    },
    {
      "cell_type": "code",
      "source": [
        "\n",
        "with open('readme.txt', 'w') as f:\n",
        "    for line in docs:\n",
        "        f.write(line)\n",
        "        f.write('\\n')"
      ],
      "metadata": {
        "id": "jvLELqnvdm-K"
      },
      "execution_count": null,
      "outputs": []
    },
    {
      "cell_type": "code",
      "source": [
        "# this will open the file\n",
        "file = open('readme.txt', encoding='utf8')\n",
        "read = file.read()\n",
        "file.seek(0)\n",
        "read\n",
        "  \n",
        "# to obtain the\n",
        "# number of lines\n",
        "# in file\n",
        "line = 1\n",
        "for word in read:\n",
        "    if word == '\\n':\n",
        "        line += 1\n",
        "print(\"Number of lines in file is: \", line)\n",
        "  \n",
        "# create a list to\n",
        "# store each line as\n",
        "# an element of list\n",
        "array = []\n",
        "for i in range(line):\n",
        "    array.append(file.readline())\n",
        "  \n",
        "array"
      ],
      "metadata": {
        "colab": {
          "base_uri": "https://localhost:8080/"
        },
        "id": "XMEZINvMdKKC",
        "outputId": "916fb1e9-ef14-4f21-dbc8-9ae31ed189af"
      },
      "execution_count": null,
      "outputs": [
        {
          "output_type": "stream",
          "name": "stdout",
          "text": [
            "Number of lines in file is:  5\n"
          ]
        },
        {
          "output_type": "execute_result",
          "data": {
            "text/plain": [
              "['new home sales top forecasts\\n',\n",
              " 'home sales rise in july\\n',\n",
              " 'increase in home sales in july\\n',\n",
              " 'july new home sales rise\\n',\n",
              " '']"
            ]
          },
          "metadata": {},
          "execution_count": 14
        }
      ]
    },
    {
      "cell_type": "code",
      "source": [
        "# this will open the file\n",
        "file = open('readme.txt', encoding='utf8')\n",
        "read = file.read()\n",
        "file.seek(0)\n",
        "read\n",
        "  \n",
        "# to obtain the\n",
        "# number of lines\n",
        "# in file\n",
        "line = 1\n",
        "for word in read:\n",
        "    if word == '\\n':\n",
        "        line += 1\n",
        "print(\"Number of lines in file is: \", line)\n",
        "  \n",
        "# create a list to\n",
        "# store each line as\n",
        "# an element of list\n",
        "array = []\n",
        "for i in range(line):\n",
        "    array.append(file.readline())\n",
        "  \n",
        "array"
      ],
      "metadata": {
        "colab": {
          "base_uri": "https://localhost:8080/"
        },
        "id": "0YU9cej_d99c",
        "outputId": "99cf41cf-628a-4144-8244-593ef151eaa3"
      },
      "execution_count": null,
      "outputs": [
        {
          "output_type": "stream",
          "name": "stdout",
          "text": [
            "Number of lines in file is:  5\n"
          ]
        },
        {
          "output_type": "execute_result",
          "data": {
            "text/plain": [
              "['new home sales top forecasts\\n',\n",
              " 'home sales rise in july\\n',\n",
              " 'increase in home sales in july\\n',\n",
              " 'july new home sales rise\\n',\n",
              " '']"
            ]
          },
          "metadata": {},
          "execution_count": 16
        }
      ]
    },
    {
      "cell_type": "code",
      "source": [
        "punc = '''!()-[]{};:'\"\\, <>./?@#$%^&*_~'''\n",
        "for ele in read:  \n",
        "    if ele in punc:  \n",
        "        read = read.replace(ele, \" \")  \n",
        "          \n",
        "read\n",
        "  \n",
        "# to maintain uniformity\n",
        "read=read.lower()                    \n",
        "read"
      ],
      "metadata": {
        "colab": {
          "base_uri": "https://localhost:8080/",
          "height": 35
        },
        "id": "EzrDzTLyeHEW",
        "outputId": "4e7942dd-3f4a-451e-dd2d-4ee4dfba7499"
      },
      "execution_count": null,
      "outputs": [
        {
          "output_type": "execute_result",
          "data": {
            "text/plain": [
              "'new home sales top forecasts\\nhome sales rise in july\\nincrease in home sales in july\\njuly new home sales rise\\n'"
            ],
            "application/vnd.google.colaboratory.intrinsic+json": {
              "type": "string"
            }
          },
          "metadata": {},
          "execution_count": 17
        }
      ]
    },
    {
      "cell_type": "code",
      "source": [
        "from nltk.tokenize import word_tokenize\n",
        "import nltk\n",
        "from nltk.corpus import stopwords\n",
        "nltk.download('stopwords')\n",
        "  \n",
        "for i in range(1):\n",
        "    # this will convert\n",
        "    # the word into tokens\n",
        "    text_tokens = word_tokenize(read)\n",
        "  \n",
        "tokens_without_sw = [\n",
        "    word for word in text_tokens if not word in stopwords.words()]\n",
        "  \n",
        "print(tokens_without_sw)"
      ],
      "metadata": {
        "colab": {
          "base_uri": "https://localhost:8080/"
        },
        "id": "GrsWu1yGeL3g",
        "outputId": "3c4784dd-d457-4174-cc15-ac520127001f"
      },
      "execution_count": null,
      "outputs": [
        {
          "output_type": "stream",
          "name": "stderr",
          "text": [
            "[nltk_data] Downloading package stopwords to /root/nltk_data...\n",
            "[nltk_data]   Package stopwords is already up-to-date!\n"
          ]
        },
        {
          "output_type": "stream",
          "name": "stdout",
          "text": [
            "['home', 'sales', 'top', 'forecasts', 'home', 'sales', 'rise', 'july', 'increase', 'home', 'sales', 'july', 'july', 'home', 'sales', 'rise']\n"
          ]
        }
      ]
    },
    {
      "cell_type": "code",
      "source": [
        "dict = {}\n",
        "  \n",
        "for i in range(line):\n",
        "    check = array[i].lower()\n",
        "    for item in tokens_without_sw:\n",
        "  \n",
        "        if item in check:\n",
        "            if item not in dict:\n",
        "                dict[item] = []\n",
        "  \n",
        "            if item in dict:\n",
        "                dict[item].append(i+1)\n",
        "  \n",
        "dict"
      ],
      "metadata": {
        "id": "z0e95dEFeQTt",
        "outputId": "6d51aa52-d981-4f73-ff14-f74022b41822",
        "colab": {
          "base_uri": "https://localhost:8080/"
        }
      },
      "execution_count": null,
      "outputs": [
        {
          "output_type": "execute_result",
          "data": {
            "text/plain": [
              "{'home': [1, 1, 1, 1, 2, 2, 2, 2, 3, 3, 3, 3, 4, 4, 4, 4],\n",
              " 'sales': [1, 1, 1, 1, 2, 2, 2, 2, 3, 3, 3, 3, 4, 4, 4, 4],\n",
              " 'top': [1],\n",
              " 'forecasts': [1],\n",
              " 'rise': [2, 2, 4, 4],\n",
              " 'july': [2, 2, 2, 3, 3, 3, 4, 4, 4],\n",
              " 'increase': [3]}"
            ]
          },
          "metadata": {},
          "execution_count": 19
        }
      ]
    }
  ]
}